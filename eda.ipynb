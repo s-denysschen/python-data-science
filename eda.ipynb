{
 "cells": [
  {
   "attachments": {},
   "cell_type": "markdown",
   "metadata": {},
   "source": [
    "## Exploratory Data Analysis (EDA)\n",
    "### Visual inspection\n",
    "Exploring characteristics of your data is a critical step in any data science project. Using visualization libraries like Matplotlib and Seaborn can greatly assist in this process, making it easier to understand patterns, relationships, and structures within your data. Let's dive into some specifics.\n",
    "#### Understanding distributions\n",
    "One of the first steps in exploring your data could be understanding the distribution of various features. Histograms, box plots, and violin plots are commonly used for this purpose.\n",
    "##### Histogram\n",
    "Histogram: A histogram shows the frequency of different values in a dataset. In seaborn, you can use sns.histplot() to create histograms."
   ]
  },
  {
   "cell_type": "code",
   "execution_count": null,
   "metadata": {},
   "outputs": [],
   "source": [
    "import seaborn as sns\n",
    "import pandas as pd\n",
    "import numpy as np\n",
    "\n",
    "data = np.random.normal(size=100)\n",
    "sns.histplot(data)"
   ]
  },
  {
   "attachments": {},
   "cell_type": "markdown",
   "metadata": {},
   "source": [
    "##### Box plot\n",
    "A box plot is used to depict groups of numerical data through their quartiles. It can give you a better understanding of the spread and skewness of your data. Outliers can also be spotted using box plots. Seaborn's sns.boxplot() can be used to create these."
   ]
  },
  {
   "cell_type": "code",
   "execution_count": null,
   "metadata": {},
   "outputs": [],
   "source": [
    "data = pd.DataFrame(np.random.rand(50, 4), columns=['A', 'B', 'C', 'D'])\n",
    "sns.boxplot(data=data)"
   ]
  },
  {
   "attachments": {},
   "cell_type": "markdown",
   "metadata": {},
   "source": [
    "##### Violin plot\n",
    "A violin plot combines the benefits of the previous two plots and simplifies them. It shows the distribution of quantitative data across several levels of one (or more) categorical variables. Use sns.violinplot() to create violin plots."
   ]
  },
  {
   "cell_type": "code",
   "execution_count": null,
   "metadata": {},
   "outputs": [],
   "source": [
    "tips = sns.load_dataset(\"tips\")\n",
    "sns.violinplot(x=tips[\"total_bill\"])"
   ]
  },
  {
   "attachments": {},
   "cell_type": "markdown",
   "metadata": {},
   "source": [
    "#### Understanding relationships \n",
    "If your data has multiple features, it's often useful to understand how these features relate to each other. Scatter plots, line plots, and correlation heatmaps can be useful here.\n",
    "##### Scatter plot\n",
    "Scatter plots can help visualize the relationship between two numerical variables. In seaborn, you can use sns.scatterplot() to create scatter plots."
   ]
  },
  {
   "cell_type": "code",
   "execution_count": null,
   "metadata": {},
   "outputs": [],
   "source": [
    "iris = sns.load_dataset(\"iris\")\n",
    "sns.scatterplot(x='sepal_length', y='sepal_width', data=iris)"
   ]
  },
  {
   "attachments": {},
   "cell_type": "markdown",
   "metadata": {},
   "source": [
    "##### Line plot\n",
    "A line plot is a way to display data along a number line. Line plots are used to track changes over periods of time. When smaller changes exist, line plots are better to use than bar plots."
   ]
  },
  {
   "cell_type": "code",
   "execution_count": null,
   "metadata": {},
   "outputs": [],
   "source": [
    "years = [2010, 2011, 2012, 2013, 2014, 2015, 2016, 2017, 2018, 2019]\n",
    "revenue = [200, 250, 275, 300, 350, 400, 450, 475, 525, 575]\n",
    "sns.lineplot(x=years, y=revenue)"
   ]
  },
  {
   "attachments": {},
   "cell_type": "markdown",
   "metadata": {},
   "source": [
    "##### Heatmap\n",
    "A heatmap is a graphical representation of data that uses a system of color-coding to represent different values. Heatmaps are used in various forms of analytics but are most commonly used to show user behaviour on specific webpages or webpage templates."
   ]
  },
  {
   "cell_type": "code",
   "execution_count": null,
   "metadata": {},
   "outputs": [],
   "source": [
    "# correlation matrix\n",
    "corr = iris.corr()\n",
    "sns.heatmap(corr, annot=True)"
   ]
  },
  {
   "attachments": {},
   "cell_type": "markdown",
   "metadata": {},
   "source": [
    "### Formal techniques\n",
    "EDA is such a critical step in the data science pipeline. It involves examining the data to understand their main characteristics often with visual methods. Here, I will outline some key statistical techniques, both parametric and non-parametric, used during EDA.\n",
    "#### Parametric methods\n",
    "Parametric methods assume that data has a specific distribution, typically a Gaussian (normal) distribution. The parameters of the normal distribution, mean and standard deviation, summarize and sufficiently represent the data.\n",
    "##### Mean: \n",
    "It provides the central tendency of the dataset. Mean is the sum of all values divided by the number of values."
   ]
  },
  {
   "cell_type": "code",
   "execution_count": null,
   "metadata": {},
   "outputs": [],
   "source": [
    "import numpy as np\n",
    "data = np.array([1, 2, 3, 4, 5])\n",
    "mean = np.mean(data)\n",
    "print('Mean:', mean)"
   ]
  },
  {
   "attachments": {},
   "cell_type": "markdown",
   "metadata": {},
   "source": [
    "##### Standard Deviation\n",
    "It quantifies the amount of variation or dispersion of a set of values. A low standard deviation indicates that the values tend to be close to the mean, while a high standard deviation indicates that the values are spread out."
   ]
  },
  {
   "cell_type": "code",
   "execution_count": null,
   "metadata": {},
   "outputs": [],
   "source": [
    "std_dev = np.std(data)\n",
    "print('Standard Deviation:', std_dev)"
   ]
  },
  {
   "attachments": {},
   "cell_type": "markdown",
   "metadata": {},
   "source": [
    "##### Correlation\n",
    "It measures the degree to which two variables are linearly related. If we have more than two variables, we typically use a correlation matrix."
   ]
  },
  {
   "cell_type": "code",
   "execution_count": null,
   "metadata": {},
   "outputs": [],
   "source": [
    "import pandas as pd\n",
    "data = pd.DataFrame({'A': np.random.rand(50), 'B': np.random.rand(50)})\n",
    "correlation = data.corr()\n",
    "print('Correlation:\\n', correlation)"
   ]
  },
  {
   "attachments": {},
   "cell_type": "markdown",
   "metadata": {},
   "source": [
    "##### T-tests\n",
    "These are used to determine if there is a significant difference between the means of two groups. In Python, you can use the scipy.stats.ttest_ind() function to conduct a t-test."
   ]
  },
  {
   "cell_type": "code",
   "execution_count": null,
   "metadata": {},
   "outputs": [],
   "source": [
    "import numpy as np\n",
    "from scipy import stats\n",
    "\n",
    "# Create three sets of data\n",
    "np.random.seed(0)  # for reproducibility\n",
    "group1 = np.random.normal(50, 10, size=50)\n",
    "group2 = np.random.normal(60, 10, size=50)\n",
    "group3 = np.random.normal(55, 10, size=50)\n",
    "\n",
    "# Perform a two-sample t-test on group1 and group2\n",
    "t_stat, p_val = stats.ttest_ind(group1, group2)\n",
    "\n",
    "print(\"t-statistic: \", t_stat)\n",
    "print(\"p-value: \", p_val)"
   ]
  },
  {
   "attachments": {},
   "cell_type": "markdown",
   "metadata": {},
   "source": [
    "##### Analysis of Variance (ANOVA): This is used to analyze the difference among group means in a sample. In Python, you can use the scipy.stats.f_oneway() function for ANOVA."
   ]
  },
  {
   "cell_type": "code",
   "execution_count": null,
   "metadata": {},
   "outputs": [],
   "source": [
    "# Perform one-way ANOVA\n",
    "F_stat, p_val = stats.f_oneway(group1, group2, group3)\n",
    "\n",
    "print(\"F-statistic: \", F_stat)\n",
    "print(\"p-value: \", p_val)"
   ]
  },
  {
   "attachments": {},
   "cell_type": "markdown",
   "metadata": {},
   "source": [
    "#### Non-parametric methods\n",
    "Non-parametric methods come in handy when the data does not fit a normal distribution. These methods are based on ranks and medians.\n",
    "##### Median\n",
    "It is the value separating the higher half from the lower half of a data sample. It provides the central tendency of the dataset."
   ]
  },
  {
   "cell_type": "code",
   "execution_count": null,
   "metadata": {},
   "outputs": [],
   "source": [
    "median = np.median(data)\n",
    "print('Median:', median)"
   ]
  },
  {
   "attachments": {},
   "cell_type": "markdown",
   "metadata": {},
   "source": [
    "##### Interquartile Range (IQR): \n",
    "This is the range between the first quartile (25th percentile) and the third quartile (75th percentile). It is a measure of statistical dispersion."
   ]
  },
  {
   "cell_type": "code",
   "execution_count": null,
   "metadata": {},
   "outputs": [],
   "source": [
    "Q1 = np.percentile(data, 25)\n",
    "Q3 = np.percentile(data, 75)\n",
    "IQR = Q3 - Q1\n",
    "print('IQR:', IQR)"
   ]
  },
  {
   "attachments": {},
   "cell_type": "markdown",
   "metadata": {},
   "source": [
    "##### Spearman’s Rank Correlation \n",
    "It assesses how well the relationship between two variables can be described using a monotonic function."
   ]
  },
  {
   "cell_type": "code",
   "execution_count": null,
   "metadata": {},
   "outputs": [],
   "source": [
    "from scipy.stats import spearmanr\n",
    "data = pd.DataFrame({'A': np.random.rand(50), 'B': np.random.rand(50)})\n",
    "correlation, _ = spearmanr(data['A'], data['B'])\n",
    "print('Spearmans correlation: %.3f' % correlation)"
   ]
  },
  {
   "attachments": {},
   "cell_type": "markdown",
   "metadata": {},
   "source": [
    "##### Mann-Whitney U Test\n",
    "It is used to compare differences between two independent data samples. In Python, you can use the scipy.stats.mannwhitneyu() function for this test."
   ]
  },
  {
   "cell_type": "code",
   "execution_count": null,
   "metadata": {},
   "outputs": [],
   "source": [
    "# Perform Mann-Whitney U Test on group1 and group2\n",
    "u_stat, p_val = stats.mannwhitneyu(group1, group2)\n",
    "\n",
    "print(\"U-statistic: \", u_stat)\n",
    "print(\"p-value: \", p_val)"
   ]
  },
  {
   "attachments": {},
   "cell_type": "markdown",
   "metadata": {},
   "source": [
    "##### Kruskal-Wallis H Test: \n",
    "This test is used when the assumptions of one-way ANOVA are not met. It's a rank-based nonparametric test that can be used to determine if there are statistically significant differences between two or more groups."
   ]
  },
  {
   "cell_type": "code",
   "execution_count": null,
   "metadata": {},
   "outputs": [],
   "source": [
    "# Perform Kruskal-Wallis H Test\n",
    "h_stat, p_val = stats.kruskal(group1, group2, group3)\n",
    "\n",
    "print(\"H-statistic: \", h_stat)\n",
    "print(\"p-value: \", p_val)"
   ]
  },
  {
   "attachments": {},
   "cell_type": "markdown",
   "metadata": {},
   "source": [
    "### Statistical inference\n",
    "Statistical inference is the process of making judgments about a population based on sampling properties. It consists of selecting and modeling the data appropriately and interpreting the results correctly. There are two major types of statistical inference: estimation (point estimates and confidence intervals) and hypothesis testing.\n",
    "#### Estimation\n",
    "##### Point Estimate\n",
    "It is a single value estimate of a parameter. For instance, the sample mean is a point estimate of the population mean."
   ]
  },
  {
   "cell_type": "code",
   "execution_count": null,
   "metadata": {},
   "outputs": [],
   "source": [
    "import numpy as np\n",
    "\n",
    "# Generating a sample\n",
    "np.random.seed(0)\n",
    "population = np.random.normal(loc=70, scale=10, size=1000000)\n",
    "sample = np.random.choice(population, size=1000)\n",
    "\n",
    "# Point estimate of the mean\n",
    "point_estimate = np.mean(sample)\n",
    "print('Point Estimate of Mean:', point_estimate)\n"
   ]
  },
  {
   "attachments": {},
   "cell_type": "markdown",
   "metadata": {},
   "source": [
    "##### Confidence Interval\n",
    "A range of values that likely contains the population parameter. For example, a 95% confidence interval implies that if we pull 100 samples and create confidence intervals for each, 95 of those intervals would contain the population mean."
   ]
  },
  {
   "cell_type": "code",
   "execution_count": null,
   "metadata": {},
   "outputs": [],
   "source": [
    "from scipy.stats import sem, t\n",
    "\n",
    "# Confidence interval\n",
    "confidence = 0.95\n",
    "sample_stderr = sem(sample)  # Standard error of the mean\n",
    "interval = sample_stderr * t.ppf((1 + confidence) / 2., len(sample) - 1)\n",
    "\n",
    "print('Confidence interval for the mean:', (point_estimate - interval, point_estimate + interval))"
   ]
  },
  {
   "attachments": {},
   "cell_type": "markdown",
   "metadata": {},
   "source": [
    "#### Hypothesis Testing: \n",
    "Hypothesis testing is a statistical method that is used in making statistical decisions using experimental data. It is basically an assumption that we make about the population parameter.\n",
    "\n",
    "Let's take an example, where we have a sample of weights and we are testing if the mean of the weights is significantly different from 70."
   ]
  },
  {
   "cell_type": "code",
   "execution_count": null,
   "metadata": {},
   "outputs": [],
   "source": [
    "# Null Hypothesis: The mean weight is 70\n",
    "# Alternative Hypothesis: The mean weight is not 70\n",
    "\n",
    "from scipy.stats import ttest_1samp\n",
    "\n",
    "t_statistic, p_value = ttest_1samp(sample, 70)\n",
    "\n",
    "print('t-statistic:', t_statistic)\n",
    "print('p-value:', p_value)\n",
    "\n",
    "if p_value < 0.05:  # alpha value is 0.05 or 5%\n",
    "    print(\"We are rejecting null hypothesis\")\n",
    "else:\n",
    "    print(\"We are accepting null hypothesis\")"
   ]
  }
 ],
 "metadata": {
  "kernelspec": {
   "display_name": "pytorchenv",
   "language": "python",
   "name": "python3"
  },
  "language_info": {
   "codemirror_mode": {
    "name": "ipython",
    "version": 3
   },
   "file_extension": ".py",
   "mimetype": "text/x-python",
   "name": "python",
   "nbconvert_exporter": "python",
   "pygments_lexer": "ipython3",
   "version": "3.9.12"
  },
  "orig_nbformat": 4
 },
 "nbformat": 4,
 "nbformat_minor": 2
}
