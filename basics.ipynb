{
 "cells": [
  {
   "attachments": {},
   "cell_type": "markdown",
   "metadata": {},
   "source": [
    "## Data cleaning and pre-processing\n",
    "Let's delve into data cleaning and preprocessing, which are crucial steps in any data science project. We will primarily use the pandas library for these tasks.\n",
    "#### Missing values\n",
    "Missing values in datasets are quite common. They can be filled in with some specified value, or an aggregated value like mean, median, etc. Alternatively, rows or columns containing missing values can also be dropped."
   ]
  },
  {
   "cell_type": "code",
   "execution_count": null,
   "metadata": {},
   "outputs": [],
   "source": [
    "import pandas as pd\n",
    "import numpy as np\n",
    "\n",
    "# Creating a DataFrame with some missing values\n",
    "df = pd.DataFrame({\n",
    "    'A': [1, np.nan, 3],\n",
    "    'B': [4, 5, np.nan],\n",
    "    'C': [7, 8, 9]\n",
    "})\n",
    "\n",
    "# Fill missing values with a specified value\n",
    "df_filled = df.fillna(0)\n",
    "\n",
    "# Fill missing values with mean of the column\n",
    "df_filled_mean = df.fillna(df.mean())\n",
    "\n",
    "# Drop rows with missing values\n",
    "df_dropped = df.dropna()"
   ]
  },
  {
   "attachments": {},
   "cell_type": "markdown",
   "metadata": {},
   "source": [
    "#### Duplicate values\n",
    "Duplicates in your dataset can negatively impact analysis and prediction results by distorting them. Removing duplicates is crucial for ensuring accurate analyses and predictions."
   ]
  },
  {
   "cell_type": "code",
   "execution_count": null,
   "metadata": {},
   "outputs": [],
   "source": [
    "# Creating a DataFrame with duplicate rows\n",
    "df = pd.DataFrame({\n",
    "    'A': ['foo', 'foo', 'bar', 'bar'],\n",
    "    'B': ['one', 'one', 'two', 'two'],\n",
    "    'C': [1, 1, 2, 2]\n",
    "})\n",
    "\n",
    "# Dropping duplicate rows\n",
    "df_dropped = df.drop_duplicates()"
   ]
  },
  {
   "attachments": {},
   "cell_type": "markdown",
   "metadata": {},
   "source": [
    "#### Outliers\n",
    "Outliers Detection and Removal: Outliers are extreme values that deviate significantly from other observations. They might occur due to variability in the data or measurement errors. We can use statistical methods like the IQR method or Z-score method to detect and remove outliers."
   ]
  },
  {
   "cell_type": "code",
   "execution_count": null,
   "metadata": {},
   "outputs": [],
   "source": [
    "# Assume we have a DataFrame df with a column 'data'\n",
    "Q1 = df['data'].quantile(0.25)\n",
    "Q3 = df['data'].quantile(0.75)\n",
    "IQR = Q3 - Q1\n",
    "\n",
    "# Define criteria for an outlier\n",
    "filter = (df['data'] >= Q1 - 1.5 * IQR) & (df['data'] <= Q3 + 1.5 * IQR)\n",
    "\n",
    "# Apply the filter to remove outliers\n",
    "df_no_outlier = df.loc[filter]"
   ]
  },
  {
   "attachments": {},
   "cell_type": "markdown",
   "metadata": {},
   "source": [
    "#### Normalization\n",
    "Data normalization involves scaling the data to a specific range, typically between 0 and 1. It is necessary when the dataset contains features with varying scale."
   ]
  },
  {
   "cell_type": "code",
   "execution_count": null,
   "metadata": {},
   "outputs": [],
   "source": [
    "from sklearn.preprocessing import MinMaxScaler\n",
    "\n",
    "# Assume we have a DataFrame df with columns 'col1' and 'col2'\n",
    "scaler = MinMaxScaler()\n",
    "df[['col1', 'col2']] = scaler.fit_transform(df[['col1', 'col2']])"
   ]
  },
  {
   "attachments": {},
   "cell_type": "markdown",
   "metadata": {},
   "source": [
    "#### Categorical encoding\n",
    "Encoding Categorical Variables: Machine learning models generally require numerical input. Hence categorical variables, both ordinal (with order) and nominal (without order), are often encoded to numerical counterparts."
   ]
  },
  {
   "cell_type": "code",
   "execution_count": null,
   "metadata": {},
   "outputs": [],
   "source": [
    "# Ordinal encoding\n",
    "df['ordinal_var'] = df['ordinal_var'].map({'low': 1, 'medium': 2, 'high': 3})\n",
    "\n",
    "# One-hot encoding for nominal variables\n",
    "df = pd.get_dummies(df, columns=['nominal_var'])"
   ]
  },
  {
   "attachments": {},
   "cell_type": "markdown",
   "metadata": {},
   "source": [
    "## Basic data visualization\n",
    "#### Matplotlib\n",
    "Let's start with Matplotlib, a widely-used library for creating static, animated, and interactive visualizations in Python."
   ]
  },
  {
   "cell_type": "code",
   "execution_count": null,
   "metadata": {},
   "outputs": [],
   "source": [
    "import matplotlib.pyplot as plt\n",
    "import numpy as np\n",
    "\n",
    "# Line plot\n",
    "x = np.linspace(0, 10, 100)\n",
    "y = np.sin(x)\n",
    "plt.plot(x, y)\n",
    "plt.title('Line Plot')\n",
    "plt.xlabel('x')\n",
    "plt.ylabel('y')\n",
    "plt.show()\n",
    "\n",
    "# Scatter plot\n",
    "x = np.random.rand(50)\n",
    "y = np.random.rand(50)\n",
    "plt.scatter(x, y)\n",
    "plt.title('Scatter Plot')\n",
    "plt.xlabel('x')\n",
    "plt.ylabel('y')\n",
    "plt.show()\n",
    "\n",
    "# Bar plot\n",
    "labels = ['A', 'B', 'C']\n",
    "values = [10, 35, 50]\n",
    "plt.bar(labels, values)\n",
    "plt.title('Bar Plot')\n",
    "plt.show()"
   ]
  },
  {
   "attachments": {},
   "cell_type": "markdown",
   "metadata": {},
   "source": [
    "#### Seaborn\n",
    "Seaborn is a Python data visualization library based on matplotlib. It provides a high-level interface for drawing attractive and informative statistical graphics."
   ]
  },
  {
   "cell_type": "code",
   "execution_count": null,
   "metadata": {},
   "outputs": [],
   "source": [
    "import seaborn as sns\n",
    "import pandas as pd\n",
    "\n",
    "# Creating a sample DataFrame\n",
    "df = pd.DataFrame({\n",
    "    'A': np.random.rand(50),\n",
    "    'B': np.random.rand(50),\n",
    "    'C': ['X']*25 + ['Y']*25\n",
    "})\n",
    "\n",
    "# Box plot\n",
    "sns.boxplot(x='C', y='A', data=df)\n",
    "plt.title('Box Plot')\n",
    "plt.show()\n",
    "\n",
    "# Violin plot\n",
    "sns.violinplot(x='C', y='B', data=df)\n",
    "plt.title('Violin Plot')\n",
    "plt.show()\n",
    "\n",
    "# Pair plot\n",
    "sns.pairplot(df)\n",
    "plt.title('Pair Plot')\n",
    "plt.show()"
   ]
  }
 ],
 "metadata": {
  "kernelspec": {
   "display_name": "pytorchenv",
   "language": "python",
   "name": "python3"
  },
  "language_info": {
   "codemirror_mode": {
    "name": "ipython",
    "version": 3
   },
   "file_extension": ".py",
   "mimetype": "text/x-python",
   "name": "python",
   "nbconvert_exporter": "python",
   "pygments_lexer": "ipython3",
   "version": "3.7.3"
  },
  "orig_nbformat": 4
 },
 "nbformat": 4,
 "nbformat_minor": 2
}
