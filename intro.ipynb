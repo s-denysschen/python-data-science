{
 "cells": [
  {
   "attachments": {},
   "cell_type": "markdown",
   "metadata": {},
   "source": [
    "## The basics of Python\n",
    "#### Data structures\n",
    "Python, being a versatile programming language, offers a wide range of data structures to handle various types of data. Among the fundamental data structures in Python are lists, dictionaries, tuples, and sets. \n",
    "* Lists provide a flexible way to store and manipulate an ordered collection of items, allowing for easy indexing and appending of elements. \n",
    "* Dictionaries, on the other hand, offer a powerful key-value pairing mechanism, enabling efficient retrieval and modification of data based on unique keys. \n",
    "* Tuples, similar to lists, allow for the storage of multiple items, but with the crucial distinction of immutability, making them suitable for situations where data integrity is paramount. \n",
    "* Lastly, sets offer an unordered collection of unique elements, providing useful operations like union, intersection, and difference for efficient data manipulation and analysis. \n",
    "\n",
    "Python's diverse repertoire of data structures empowers programmers to choose the most suitable structure for their specific needs, enhancing the flexibility and efficiency of their code."
   ]
  },
  {
   "cell_type": "code",
   "execution_count": null,
   "metadata": {},
   "outputs": [],
   "source": [
    "# List\n",
    "list_data = [1, 2, 3, 4, 5]\n",
    "\n",
    "# Dictionary\n",
    "dict_data = {'key1': 'value1', 'key2': 'value2'}\n",
    "\n",
    "# Tuple\n",
    "tuple_data = (1, 2, 3, 4, 5)\n",
    "\n",
    "# Set\n",
    "set_data = {1, 2, 3, 3, 4, 5}  # duplicate values are ignored"
   ]
  },
  {
   "attachments": {},
   "cell_type": "markdown",
   "metadata": {},
   "source": [
    "#### Control flow\n",
    "Control flow is an essential aspect of programming in Python as it allows for the management and execution of code based on specific conditions. In Python, control flow is primarily achieved through the utilization of conditional statements, loops, and function calls. Conditional statements, such as if-else and switch-case, enable the program to make decisions and choose different paths of execution based on the evaluation of certain conditions. Loops, including for loops and while loops, provide a way to repeat a specific block of code multiple times until a certain condition is met or until the loop is manually terminated. Additionally, function calls allow programmers to execute a specific set of instructions contained within a function, providing modularity and reusability to the code. By mastering control flow in Python, developers can create powerful and dynamic programs that respond intelligently to different scenarios."
   ]
  },
  {
   "cell_type": "code",
   "execution_count": null,
   "metadata": {},
   "outputs": [],
   "source": [
    "# If-else statement\n",
    "x = 10\n",
    "if x > 0:\n",
    "    print('x is positive')\n",
    "else:\n",
    "    print('x is not positive')\n",
    "\n",
    "# For loop\n",
    "for i in range(5):\n",
    "    print(i)\n",
    "\n",
    "# While loop\n",
    "i = 0\n",
    "while i < 5:\n",
    "    print(i)\n",
    "    i += 1"
   ]
  },
  {
   "attachments": {},
   "cell_type": "markdown",
   "metadata": {},
   "source": [
    "#### Functions\n",
    "Functions play a crucial role in programming as they are modular blocks of code designed to carry out specific tasks. By encapsulating a set of instructions within a function, developers can create reusable units of code that can be easily invoked whenever needed. This not only enhances code organization but also promotes code reusability, making it more efficient and maintainable. Additionally, functions enable developers to break down complex problems into smaller, manageable parts, allowing for easier debugging and troubleshooting. Their ability to accept inputs (parameters) and return outputs further enhances their versatility and usefulness in various programming scenarios. In summary, functions serve as essential building blocks in programming, empowering developers to write clean, modular, and scalable code."
   ]
  },
  {
   "cell_type": "code",
   "execution_count": null,
   "metadata": {},
   "outputs": [],
   "source": [
    "def greet(name):\n",
    "    print(f'Hello, {name}!')\n",
    "\n",
    "greet('Alice')"
   ]
  },
  {
   "attachments": {},
   "cell_type": "markdown",
   "metadata": {},
   "source": [
    "#### Classes and object-oriented programming\n",
    "Python is a programming language that embraces object-oriented programming (OOP) concepts. With OOP, Python enables the creation of classes, which serve as blueprints for defining new types of objects. These classes facilitate the creation of multiple instances, each representing a unique occurrence of that particular type. By encapsulating attributes and behaviors within a class, Python promotes modularity and code reusability. When a class is instantiated, a new object of that type is created, equipped with its own set of attributes and behaviors defined by the class. This object-oriented approach in Python enhances flexibility and allows for more organized and efficient code structure."
   ]
  },
  {
   "cell_type": "code",
   "execution_count": null,
   "metadata": {},
   "outputs": [],
   "source": [
    "class Person:\n",
    "    def __init__(self, name, age):  # constructor method\n",
    "        self.name = name  # instance variable\n",
    "        self.age = age\n",
    "\n",
    "    def introduce_self(self):  # instance method\n",
    "        print(f'My name is {self.name} and I am {self.age} years old.')\n",
    "\n",
    "person1 = Person('Alice', 25)\n",
    "person1.introduce_self()"
   ]
  },
  {
   "attachments": {},
   "cell_type": "markdown",
   "metadata": {},
   "source": [
    "#### Exception handling\n",
    "In Python, exception handling is an essential feature that helps developers manage unexpected errors and ensure their programs can gracefully recover from exceptional situations. To handle exceptions, Python employs the try/except blocks. The try block is where the potentially problematic code is placed, while the except block contains the code that executes when an exception occurs. By encapsulating code within a try block, developers can anticipate and prepare for potential errors. When an exception arises, Python gracefully transfers control to the appropriate except block, allowing the program to handle the exception in a controlled manner. This approach enhances the robustness and reliability of Python programs, as it prevents unexpected errors from crashing the entire application."
   ]
  },
  {
   "cell_type": "code",
   "execution_count": null,
   "metadata": {},
   "outputs": [],
   "source": [
    "try:\n",
    "    # code that may raise an exception\n",
    "    x = 1 / 0\n",
    "except ZeroDivisionError:\n",
    "    # what to do when that exception occurs\n",
    "    print(\"You can't divide by zero!\")"
   ]
  },
  {
   "attachments": {},
   "cell_type": "markdown",
   "metadata": {},
   "source": [
    "## NumPy\n",
    "#### NumPy arrays\n",
    "NumPy Arrays are a fundamental component of NumPy (Numerical Python), a powerful library extensively utilized for various array-based computations. With its extensive functionality, NumPy offers not only array manipulation capabilities but also a rich collection of tools for working in domains such as linear algebra, Fourier transform, and matrix operations. By leveraging NumPy, developers and data scientists can efficiently handle complex numerical operations and perform advanced mathematical computations. The library's array-centric design enables users to manipulate large datasets effortlessly, facilitating efficient data processing and analysis. With NumPy's comprehensive suite of functions, programmers can seamlessly tackle a wide range of mathematical tasks while benefiting from optimized performance and enhanced computational efficiency."
   ]
  },
  {
   "cell_type": "code",
   "execution_count": null,
   "metadata": {},
   "outputs": [],
   "source": [
    "import numpy as np\n",
    "\n",
    "# Creating an array\n",
    "arr = np.array([1, 2, 3, 4, 5])\n",
    "print(arr)"
   ]
  },
  {
   "attachments": {},
   "cell_type": "markdown",
   "metadata": {},
   "source": [
    "#### NumPy operations\n",
    "NumPy arrays offer a versatile range of operations, enabling us to manipulate data effectively. Among the operations available, we can carry out addition, subtraction, multiplication, and much more on NumPy arrays. This functionality empowers us to perform complex calculations and transformations with ease. Whether we need to combine arrays element-wise, compute differences between them, or multiply corresponding elements, NumPy provides the necessary tools. By harnessing these operations, we can efficiently process data, analyze patterns, and derive meaningful insights. Thus, NumPy's array operations empower us to unlock the full potential of numerical computing and data manipulation."
   ]
  },
  {
   "cell_type": "code",
   "execution_count": null,
   "metadata": {},
   "outputs": [],
   "source": [
    "# Arithmetic operations\n",
    "arr = np.array([1, 2, 3, 4, 5])\n",
    "print(arr + 2)  # adds 2 to each element of the array\n",
    "print(arr * 2)  # multiplies each element of the array by 2"
   ]
  },
  {
   "attachments": {},
   "cell_type": "markdown",
   "metadata": {},
   "source": [
    "#### Indexing with NumPy\n",
    "When working with NumPy arrays, we have the capability to access specific elements within the array through indexing. By utilizing indices, we can conveniently retrieve the desired values from the array. The indexing process involves specifying the position of the element we wish to retrieve, which allows us to extract the corresponding data. This functionality is particularly useful when dealing with large datasets, as it provides a straightforward method to access and manipulate specific array elements. Whether we want to perform computations on individual elements or extract subsets of data, indexing in NumPy arrays empowers us with the flexibility to efficiently work with our data."
   ]
  },
  {
   "cell_type": "code",
   "execution_count": null,
   "metadata": {},
   "outputs": [],
   "source": [
    "arr = np.array([1, 2, 3, 4, 5])\n",
    "print(arr[0])  # prints the first element of the array\n",
    "print(arr[-1])  # prints the last element of the array"
   ]
  },
  {
   "attachments": {},
   "cell_type": "markdown",
   "metadata": {},
   "source": [
    "## Pandas\n",
    "#### Pandas Series\n",
    "A Pandas Series can be conceptualized as a column within a table, providing a powerful data structure. Its functionality resembles that of a one-dimensional array, capable of storing data of diverse types. By utilizing a Pandas Series, users can efficiently manage and manipulate data, enabling streamlined analysis and computations. This versatile structure is an integral component of the Pandas library, widely used in data science and analysis tasks. Whether it's handling numerical values, categorical data, or even more complex information, the Pandas Series offers a flexible and accessible solution for organizing and working with data."
   ]
  },
  {
   "cell_type": "code",
   "execution_count": null,
   "metadata": {},
   "outputs": [],
   "source": [
    "import pandas as pd\n",
    "\n",
    "# Creating a series\n",
    "s = pd.Series([1, 2, 3, 4, 5])\n",
    "print(s)"
   ]
  },
  {
   "attachments": {},
   "cell_type": "markdown",
   "metadata": {},
   "source": [
    "#### Pandas DataFrame\n",
    "A DataFrame in pandas is a powerful data structure that represents a two-dimensional table. It organizes data in a tabular format, where each column within the DataFrame holds data of the same type. This structure allows for efficient manipulation and analysis of data, making it a popular choice for data processing tasks. Conceptually, a DataFrame can be thought of as a pandas equivalent of a Numpy 2D ndarray, providing additional functionality and flexibility. With pandas, you can perform various operations on a DataFrame, such as filtering, sorting, grouping, and merging, making it a versatile tool for data manipulation and exploration. By leveraging the DataFrame's tabular structure, you can easily handle large datasets, conduct complex data transformations, and extract valuable insights from your data."
   ]
  },
  {
   "cell_type": "code",
   "execution_count": null,
   "metadata": {},
   "outputs": [],
   "source": [
    "# Creating a DataFrame\n",
    "df = pd.DataFrame({\n",
    "    'A': [1, 2, 3],\n",
    "    'B': ['a', 'b', 'c'],\n",
    "})\n",
    "print(df)"
   ]
  },
  {
   "attachments": {},
   "cell_type": "markdown",
   "metadata": {},
   "source": [
    "#### Pandas operations\n",
    "With pandas, you can perform various tasks to transform, filter, and aggregate data efficiently. One of the fundamental operations is data selection, allowing you to extract specific rows or columns from a dataset based on certain criteria. Additionally, pandas enables powerful data manipulation techniques such as merging, joining, and reshaping datasets, allowing you to combine data from different sources or reorganize it for better analysis. Furthermore, pandas provides extensive support for data cleaning tasks, including handling missing values, removing duplicates, and applying transformations to ensure data consistency and accuracy. Overall, pandas is a versatile library that equips data scientists and analysts with a comprehensive set of operations to tackle complex data challenges effectively."
   ]
  },
  {
   "cell_type": "code",
   "execution_count": null,
   "metadata": {},
   "outputs": [],
   "source": [
    "# Basic operations\n",
    "df = pd.DataFrame({\n",
    "    'A': [1, 2, 3],\n",
    "    'B': ['a', 'b', 'c'],\n",
    "})\n",
    "\n",
    "# Adding a new column\n",
    "df['C'] = [4, 5, 6]\n",
    "print(df)\n",
    "\n",
    "# Deleting a column\n",
    "del df['A']\n",
    "print(df)\n",
    "\n",
    "# Describing the data\n",
    "print(df.describe())"
   ]
  },
  {
   "attachments": {},
   "cell_type": "markdown",
   "metadata": {},
   "source": [
    "#### Indexing in Pandas\n",
    "In the realm of data manipulation using Pandas, accessing and retrieving specific data from DataFrames can be accomplished through the use of indices and column names. This powerful feature allows users to navigate and extract information efficiently. By leveraging the indexing capabilities of Pandas, analysts and data scientists gain the ability to locate and retrieve subsets of data within their DataFrames with ease. Whether it's a specific row or a subset of columns, the combination of indices and column names provides a versatile approach to accessing and manipulating data. With Pandas, the vast landscape of data becomes more accessible, empowering users to perform intricate data operations with precision and flexibility."
   ]
  },
  {
   "cell_type": "code",
   "execution_count": null,
   "metadata": {},
   "outputs": [],
   "source": [
    "df = pd.DataFrame({\n",
    "    'A': [1, 2, 3],\n",
    "    'B': ['a', 'b', 'c'],\n",
    "})\n",
    "\n",
    "# Access a column\n",
    "print(df['A'])\n",
    "\n",
    "# Access a row by index\n",
    "print(df.loc[0])"
   ]
  }
 ],
 "metadata": {
  "kernelspec": {
   "display_name": "pytorchenv",
   "language": "python",
   "name": "python3"
  },
  "language_info": {
   "codemirror_mode": {
    "name": "ipython",
    "version": 3
   },
   "file_extension": ".py",
   "mimetype": "text/x-python",
   "name": "python",
   "nbconvert_exporter": "python",
   "pygments_lexer": "ipython3",
   "version": "3.9.12"
  },
  "orig_nbformat": 4
 },
 "nbformat": 4,
 "nbformat_minor": 2
}
